{
 "cells": [
  {
   "cell_type": "markdown",
   "metadata": {},
   "source": [
    "# 这是Python3 print函数的使用教程"
   ]
  },
  {
   "cell_type": "markdown",
   "metadata": {},
   "source": [
    "- 在Python2中，print的格式是：print 要打印的内容，例如：print \"Hello world!\"，打印结果是：Hello World！\n",
    "- 但是在Python3中，print变成了一个函数，格式是：print(要打印的内容)，例如：print(\"Hello World!\")，打印结果是：Hello World！"
   ]
  },
  {
   "cell_type": "markdown",
   "metadata": {},
   "source": [
    "## 打印字符串和数值\n",
    "- 格式：print(\"要打印的内容\")，或：print('要打印的内容')\n",
    "- 要打印的字符串用“”或‘’括起来，被“”和‘’括起来的字符串如果含有“或‘，是被当做字符串的内容打印出来的；\n",
    "- 要打印数值，直接把数值放到()内；\n",
    "- 注意print和()之间可以有空格，但是最好不要这样做；\n",
    "- 示例如下："
   ]
  },
  {
   "cell_type": "code",
   "execution_count": 11,
   "metadata": {},
   "outputs": [
    {
     "name": "stdout",
     "output_type": "stream",
     "text": [
      "Hello World!\n",
      "Hello World!\n",
      "3.1415926\n",
      "6\n"
     ]
    }
   ],
   "source": [
    "print (\"Hello World!\")\n",
    "print ('Hello World!')\n",
    "print(3.1415926)\n",
    "print(6)"
   ]
  },
  {
   "cell_type": "code",
   "execution_count": 2,
   "metadata": {},
   "outputs": [
    {
     "name": "stdout",
     "output_type": "stream",
     "text": [
      "10 10 20 30 11\n"
     ]
    }
   ],
   "source": [
    "x = 10\n",
    "y = 20\n",
    "print(y-x,x,y,x+y,x+1)"
   ]
  },
  {
   "cell_type": "code",
   "execution_count": 2,
   "metadata": {},
   "outputs": [
    {
     "name": "stdout",
     "output_type": "stream",
     "text": [
      "I \"said\" do not touch this.\n",
      "I'd much rather you 'not'.\n"
     ]
    }
   ],
   "source": [
    "print('I \"said\" do not touch this.')\n",
    "print(\"I'd much rather you 'not'.\")"
   ]
  },
  {
   "cell_type": "markdown",
   "metadata": {},
   "source": [
    "## 打印变量\n",
    "- 格式：print(变量名1)\n",
    "- 如有多个变量：print(变量名1,变量名2)\n",
    "- 无论什么类型，数值，布尔，列表，字典，公式计算...都可以直接输出\n",
    "- 示例如下："
   ]
  },
  {
   "cell_type": "code",
   "execution_count": 13,
   "metadata": {},
   "outputs": [
    {
     "name": "stdout",
     "output_type": "stream",
     "text": [
      "123\n",
      "456\n",
      "I love you.\n",
      "Do you miss me?\n",
      "True\n",
      "False\n",
      "[1, 2, 4, 8, 16, 'aaa']\n",
      "{'bbb', 333, 222, 111}\n",
      "('xxx', 'yyy', 999)\n",
      "123 456 I love you. Do you miss me?\n",
      "True False [1, 2, 4, 8, 16, 'aaa'] {'bbb', 333, 222, 111} ('xxx', 'yyy', 999) 579 -333\n"
     ]
    }
   ],
   "source": [
    "a= 123\n",
    "b= 456\n",
    "c= \"I love you.\"\n",
    "d= 'Do you miss me?'\n",
    "e= True\n",
    "f= False and True\n",
    "g= [1,2,4,8,16,'aaa']\n",
    "h= {111,222,333,\"bbb\"}\n",
    "i= ('xxx',\"yyy\",999)\n",
    "\n",
    "print (a)\n",
    "print (b)\n",
    "print (c)\n",
    "print (d)\n",
    "print (e)\n",
    "print (f)\n",
    "print (g)\n",
    "print (h)\n",
    "print (i)\n",
    "print(a,b,c,d)\n",
    "print (e,f,g,h,i,a+b,a-b)"
   ]
  },
  {
   "cell_type": "markdown",
   "metadata": {},
   "source": [
    "## 格式化输出\n",
    "- 格式：print (“字符串 %转换说明符”） % 变量或数值\n",
    "- 转换符如下：\n",
    "\n",
    "|转换类型|含义|\n",
    "|---|---:|\n",
    "|d,i|带符号的十进制整数|\n",
    "|e|科学计数法表示的浮点数（小写）|\n",
    "|E|科学计数法表示的浮点数（大写）|\n",
    "|r|字符串（使用repr转换任意python对象)|\n",
    "|s|字符串（使用str转换任意python对象）|\n",
    "- 示例如下："
   ]
  },
  {
   "cell_type": "code",
   "execution_count": 3,
   "metadata": {},
   "outputs": [
    {
     "name": "stdout",
     "output_type": "stream",
     "text": [
      "Pi is 3\n",
      "Pi is 3\n",
      "Pi is 3.14159265453\n",
      "Pi is 3.14159265453\n",
      "Pi is 3.141593e+00\n",
      "Pi is 3.141593E+00\n",
      "My name is Hello Kitty\n",
      "My name is 'Hello Kitty'\n"
     ]
    }
   ],
   "source": [
    "pi=3.14159265453\n",
    "print('Pi is %d' % pi)\n",
    "print(\"Pi is %i\" % pi)\n",
    "print('Pi is %r' % pi)\n",
    "print(\"Pi is %s\" % pi)\n",
    "print('Pi is %e' % pi)\n",
    "print('Pi is %E' % pi)\n",
    "\n",
    "my_name= \"Hello Kitty\"\n",
    "print('My name is %s' % my_name)\n",
    "print('My name is %r' % my_name)"
   ]
  }
 ],
 "metadata": {
  "kernelspec": {
   "display_name": "Python 3",
   "language": "python",
   "name": "python3"
  },
  "language_info": {
   "codemirror_mode": {
    "name": "ipython",
    "version": 3
   },
   "file_extension": ".py",
   "mimetype": "text/x-python",
   "name": "python",
   "nbconvert_exporter": "python",
   "pygments_lexer": "ipython3",
   "version": "3.6.2"
  }
 },
 "nbformat": 4,
 "nbformat_minor": 2
}
