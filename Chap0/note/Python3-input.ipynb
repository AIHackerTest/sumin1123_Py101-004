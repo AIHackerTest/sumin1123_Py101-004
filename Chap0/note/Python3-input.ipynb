{
 "cells": [
  {
   "cell_type": "markdown",
   "metadata": {},
   "source": [
    "# Python3 关于input的教程"
   ]
  },
  {
   "cell_type": "markdown",
   "metadata": {},
   "source": [
    "**格式**：input([prompt])\n",
    "\n",
    "> 官方文档：If the prompt argument is present, it is written to standard output without a trailing newline. The function then reads a line from input, converts it to a string (stripping a trailing newline), and returns that. When EOF is read, EOFError is raised. Example:\n",
    "\n",
    "**中文解释**[prompt]是提示符，可写可不写。\n",
    "当提示符出现后，函数将读入一行字符串，它自动忽略换行符。所有形式的输入按字符串处理，如果想要得到其他类型的数据进行强制类型转化。如果遇文件结束符（end of file）会触发一个EOFError。"
   ]
  },
  {
   "cell_type": "code",
   "execution_count": 9,
   "metadata": {},
   "outputs": [
    {
     "name": "stdout",
     "output_type": "stream",
     "text": [
      "请输入> ABC\n",
      "ABC\n",
      "ABCXYZ\n"
     ]
    }
   ],
   "source": [
    "s = input('请输入> ')\n",
    "print( s )\n",
    "print( s + \"XYZ\" )"
   ]
  }
 ],
 "metadata": {
  "kernelspec": {
   "display_name": "Python 3",
   "language": "python",
   "name": "python3"
  },
  "language_info": {
   "codemirror_mode": {
    "name": "ipython",
    "version": 3
   },
   "file_extension": ".py",
   "mimetype": "text/x-python",
   "name": "python",
   "nbconvert_exporter": "python",
   "pygments_lexer": "ipython3",
   "version": "3.6.2"
  }
 },
 "nbformat": 4,
 "nbformat_minor": 2
}
