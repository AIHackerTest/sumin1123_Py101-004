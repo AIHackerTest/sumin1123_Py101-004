{
 "cells": [
  {
   "cell_type": "markdown",
   "metadata": {},
   "source": [
    "### 使用百度地图，通过城市名，查询城市经度、纬度\n",
    "\n",
    "- 百度地图开放平台网址：[网址](http://lbsyun.baidu.com/index.php?title=%E9%A6%96%E9%A1%B5)\n",
    "- 其实百度地图提供了很多功能，这次仅仅使用**Geocoding API**，见下图：\n",
    "![如图](https://raw.githubusercontent.com/sumin1123/Py101-004/master/Chap2/note/baidumap.png?token=AZikMM4XRC1D92N9-qelzXfC2klon9kxks5Zq-8xwA%3D%3D)\n",
    "\n",
    "- 密匙： \t2OXG7ZbGSzXailco5nG0hLxQbzL5fdHn \t\n",
    "- 用户：夫夫猫，使用手机：13671374232"
   ]
  },
  {
   "cell_type": "markdown",
   "metadata": {},
   "source": [
    "参数 \t是否必须 \t默认值 \t格式举例 \t含义\n",
    "output \t否 \txml \tjson或xml \t输出格式为json或者xml\n",
    "ret_coordtype \t否 \t无 \tgcj02ll、bd09mc \t可选参数，添加后返回国测局经纬度坐标或百度米制坐标\n",
    "ak \t是 \t无 \tE4805d16520de693a3fe707cdc962045 \t用户申请注册的key，自v2开始参数修改为“ak”，之前版本参数为“key”\n",
    "sn \t否 \t无 \t\t若用户所用ak的校验方式为sn校验时该参数必须。 （sn生成算法）\n",
    "callback \t否 \t无 \tcallback=showLocation(JavaScript函数名) \t将json格式的返回值通过callback函数返回以实现jsonp功能 "
   ]
  },
  {
   "cell_type": "code",
   "execution_count": 2,
   "metadata": {},
   "outputs": [
    {
     "name": "stdout",
     "output_type": "stream",
     "text": [
      "请输入城市名称：>北京\n",
      "[39.92998577808024, 116.39564503787867]\n",
      "北京的城市坐标，经度： 39.92998577808024 纬度： 116.39564503787867\n"
     ]
    }
   ],
   "source": [
    "import requests\n",
    "\n",
    "ip=[]\n",
    "x = input('请输入城市名称：>')\n",
    "baidumapurl = 'http://api.map.baidu.com/geocoder/v2/'\n",
    "baidup = {'address' : x , 'output' : 'json' , 'ak' : '2OXG7ZbGSzXailco5nG0hLxQbzL5fdHn'}\n",
    "baiduresult = requests.get(baidumapurl,params=baidup).json()\n",
    "lan = baiduresult['result']['location']['lat']\n",
    "lng = baiduresult['result']['location']['lng']\n",
    "ip.append(lan)\n",
    "ip.append(lng)\n",
    "# print(baiduresult)\n",
    "print(ip)\n",
    "print(x+'的城市坐标，经度：', ip[0] , '纬度：',ip[1] )"
   ]
  }
 ],
 "metadata": {
  "kernelspec": {
   "display_name": "Python 3",
   "language": "python",
   "name": "python3"
  },
  "language_info": {
   "codemirror_mode": {
    "name": "ipython",
    "version": 3
   },
   "file_extension": ".py",
   "mimetype": "text/x-python",
   "name": "python",
   "nbconvert_exporter": "python",
   "pygments_lexer": "ipython3",
   "version": "3.6.2"
  }
 },
 "nbformat": 4,
 "nbformat_minor": 2
}
