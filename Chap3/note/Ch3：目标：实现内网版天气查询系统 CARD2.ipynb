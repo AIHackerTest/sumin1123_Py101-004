{
 "cells": [
  {
   "cell_type": "markdown",
   "metadata": {},
   "source": [
    "## ch3 目标：实现内网版天气查询系统\n",
    "\n",
    "### 正面\n",
    "本章，你将学习制作网页的基本知识，掌握Web框架Flask，实现浏览器与服务器的交互。\n",
    "![](https://github.com/sumin1123/Py101-004/blob/master/Chap3/note/web0_knowledge_map.png?raw=true)\n",
    "你将体验到：\n",
    "\n",
    "* 利用 HTML 、CSS 等制作网页\n",
    "* 使用 Web 框架 Flask 与浏览器交互\n",
    "* 完成一个内网可用的天气查询程序\n",
    "\n",
    "### 背面\n",
    "通过前几周练习，相信你已逐步获得一套简洁的自我求证的过程，知道如何根据目标，寻找合适的学习材料，如何刻意练习技能点，知道如何从 MVP 开始逐步迭加更多功能。\n",
    "\n",
    "本章内容相对较多，还请不必惊慌。复用你之前解决问题的经验，沉心静气，逢山开道，遇水造桥，相信你排除万难完成任务后，将收获满满的成就感。到时不要忘了与亲朋好友分享你的快乐哟〜\n",
    "\n",
    "快速掌握大量知识，你需要阅读大量文档。凡事皆有方法，又可以练习官方文档查阅技巧啦 ;-)"
   ]
  }
 ],
 "metadata": {
  "kernelspec": {
   "display_name": "Python 3",
   "language": "python",
   "name": "python3"
  },
  "language_info": {
   "codemirror_mode": {
    "name": "ipython",
    "version": 3
   },
   "file_extension": ".py",
   "mimetype": "text/x-python",
   "name": "python",
   "nbconvert_exporter": "python",
   "pygments_lexer": "ipython3",
   "version": "3.6.2"
  }
 },
 "nbformat": 4,
 "nbformat_minor": 2
}
