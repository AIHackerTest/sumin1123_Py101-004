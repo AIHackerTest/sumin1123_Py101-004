{
 "cells": [
  {
   "cell_type": "raw",
   "metadata": {},
   "source": [
    "- <html> 与 </html> 之间的文本描述网页\n",
    "- <body> 与 </body> 之间的文本是可见的页面内容\n",
    "- <h1> 与 </h1> 之间的文本被显示为标题\n",
    "- <p> 与 </p> 之间的文本被显示为段落"
   ]
  },
  {
   "cell_type": "markdown",
   "metadata": {},
   "source": [
    "#### HTML链接\n",
    "\n",
    "- HTML链接是通过<a>标签进行定义的\n",
    "- 举例：\n",
    "淘宝网的链接方式是：<a href=\"http://www.taobao.com\">This is a link</a>\n",
    "<a> 是开始标签\n",
    "href=\"www.taobao.com\"是指定网址，网址要用“”括起来\n",
    "This is a link这里是在网页里显示的文字\n",
    "</a>是结束标签"
   ]
  },
  {
   "cell_type": "markdown",
   "metadata": {},
   "source": [
    "#### HTML图像\n",
    "\n",
    "- HTML 图像是通过 <img> 标签进行定义的。\n",
    "- 举例：<img src=\"pic/WWW.png\" alt=\"this is WWW\" width=150 height=150 />\n",
    "<img>是引用图像的意思\n",
    "src是图片地址，如果在本地\"pic/WWW.png\"是指html文件所在的文件夹下面的pic文件夹里的www.png文件\n",
    "alt是图片的说明，如果图片正常显示，这些字就不显示了。如果图片未显示，这些字就会出来。alt不写，也可以。\n",
    "\n",
    "- 定义和用法\n",
    "\n",
    "- img 元素向网页中嵌入一幅图像。\n",
    "- 请注意，从技术上讲，<img> 标签并不会在网页中插入图像，而是从网页上链接图像。<img> 标签创建的是被引用图像的占位空间。\n",
    "- <img> 标签有两个必需的属性：src 属性 和 alt 属性。"
   ]
  },
  {
   "cell_type": "markdown",
   "metadata": {},
   "source": [
    "#### 空的 HTML 元素\n",
    "\n",
    "- 没有内容的 HTML 元素被称为空元素。空元素是在开始标签中关闭的。<br> 就是没有关闭标签的空元素（<br> 标签定义换行）。\n",
    "- 在 XHTML、XML 以及未来版本的 HTML 中，所有元素都必须被关闭。\n",
    "- 在开始标签中添加斜杠，比如 <br />，是关闭空元素的正确方法，HTML、XHTML 和 XML 都接受这种方式。\n",
    "- 即使 <br> 在所有浏览器中都是有效的，但使用 <br /> 其实是更长远的保障。"
   ]
  },
  {
   "cell_type": "markdown",
   "metadata": {},
   "source": [
    "#### HTML 标题\n",
    "\n",
    "- 标题（Heading）是通过 <h1> - <h6> 等标签进行定义的。<h1> 定义最大的标题。<h6> 定义最小的标题。\n",
    "- 注释：浏览器会自动地在标题的前后添加空行。\n",
    "- 注释：默认情况下，HTML 会自动地在块级元素前后添加一个额外的空行，比如段落、标题元素前后。\n",
    "- 标题很重要，请确保将 HTML heading 标签只用于标题。不要仅仅是为了产生粗体或大号的文本而使用标题。\n",
    "- 搜索引擎使用标题为您的网页的结构和内容编制索引。\n",
    "- 因为用户可以通过标题来快速浏览您的网页，所以用标题来呈现文档结构是很重要的。\n",
    "- 应该将 h1 用作主标题（最重要的），其后是 h2（次重要的），再其次是 h3，以此类推。"
   ]
  },
  {
   "cell_type": "markdown",
   "metadata": {},
   "source": [
    "#### HTML 水平线\n",
    "\n",
    "- <hr /> 标签在 HTML 页面中创建水平线。\n",
    "- hr 元素可用于分隔内容。"
   ]
  },
  {
   "cell_type": "markdown",
   "metadata": {},
   "source": [
    "#### HTML 注释\n",
    "\n",
    "- 可以将注释插入 HTML 代码中，这样可以提高其可读性，使代码更易被人理解。浏览器会忽略注释，也不会显示它们。\n",
    "- 注释是这样写的，举例：<!-- This is a comment -->"
   ]
  },
  {
   "cell_type": "markdown",
   "metadata": {},
   "source": [
    "#### HTML 输出 - 有用的提示\n",
    "－　我们无法确定 HTML 被显示的确切效果。屏幕的大小，以及对窗口的调整都可能导致不同的结果。\n",
    "－　对于 HTML，您无法通过在 HTML 代码中添加额外的空格或换行来改变输出的效果。\n",
    "－　当显示页面时，浏览器会移除源代码中多余的空格和空行。所有连续的空格或空行都会被算作一个空格。需要注意的是，HTML 代码中的所有连续的空行（换行）也被显示为一个空格。"
   ]
  },
  {
   "cell_type": "markdown",
   "metadata": {},
   "source": [
    "#### HTML样式\n",
    "- 可以加在<h1></h1>,<p></p>,<body></body>里，例如：\n",
    "\n",
    "#### 背景颜色\n",
    "<body style=\"background-color:yellow\">\n",
    "<h2 style=\"background-color:red\">This is a heading</h2>\n",
    "<p style=\"background-color:green\">This is a paragraph.</p>\n",
    "</body>\n",
    "\n",
    "#### 字体颜色尺寸\n",
    "<h1 style=\"font-family:verdana\">A heading</h1>\n",
    "<p style=\"font-family:arial;color:red;font-size:20px;\">A paragraph.</p>\n",
    "\n",
    "#### 文本对齐\n",
    "<body>\n",
    "<h1 style=\"text-align:center\">This is a heading</h1>\n",
    "<p>The heading above is aligned to the center of this page.</p>\n",
    "</body>"
   ]
  },
  {
   "cell_type": "markdown",
   "metadata": {},
   "source": [
    "#### 短引用\n",
    "- 使用<q></q>把引用的内容括起来；\n",
    "\n",
    "<p>苏敏说：<q>哇啦哇哇啦哇啦啦请帮我问一下供应商：如果做阳极氧化</q></p>\n",
    "\n",
    "- 使用<blockquote></blockquote>把引用的内容括起来；\n",
    "\n",
    "<p>彭博说：<blockquote>请帮我问一下供应商：如果做阳极氧化，能达到多少的硬度报价会增加多少如果能做，能否提供一些样件来试装\n",
    "三扥差东风の 车发车费方冬晨东风东翻窗送攻击高 所犯三扥查E文森；啊森及egg长</blockquote></p>"
   ]
  },
  {
   "cell_type": "markdown",
   "metadata": {},
   "source": [
    "#### 用于缩略词的 HTML <abbr>\n",
    "\n",
    "- HTML <abbr> 元素定义缩写或首字母缩略语。\n",
    "\n",
    "- 对缩写进行标记能够为浏览器、翻译系统以及搜索引擎提供有用的信息。实例：\n",
    "\n",
    "<p><abbr title=\"World Health Organization\">WHO</abbr> 成立于 1948 年。</p>\n",
    "页面显示的只是WHO，当鼠标移到WHO字上时，提示World Health Organization"
   ]
  },
  {
   "cell_type": "code",
   "execution_count": null,
   "metadata": {
    "collapsed": true
   },
   "outputs": [],
   "source": []
  }
 ],
 "metadata": {
  "kernelspec": {
   "display_name": "Python 3",
   "language": "python",
   "name": "python3"
  },
  "language_info": {
   "codemirror_mode": {
    "name": "ipython",
    "version": 3
   },
   "file_extension": ".py",
   "mimetype": "text/x-python",
   "name": "python",
   "nbconvert_exporter": "python",
   "pygments_lexer": "ipython3",
   "version": "3.6.2"
  }
 },
 "nbformat": 4,
 "nbformat_minor": 2
}
